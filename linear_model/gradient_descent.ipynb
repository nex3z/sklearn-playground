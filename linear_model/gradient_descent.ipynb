{
 "cells": [
  {
   "cell_type": "code",
   "execution_count": 1,
   "metadata": {},
   "outputs": [],
   "source": [
    "import numpy as np\n",
    "import pandas as pd\n",
    "from matplotlib import pyplot as plt\n",
    "\n",
    "np.random.seed(42)"
   ]
  },
  {
   "cell_type": "code",
   "execution_count": 2,
   "metadata": {},
   "outputs": [],
   "source": [
    "x = 2 * np.random.rand(100, 1)\n",
    "y = 4 + 3 * x + np.random.randn(100, 1)\n",
    "\n",
    "x_b = np.c_[np.ones((100, 1)), x]\n",
    "\n",
    "x_test = np.array([[0], [2]])\n",
    "x_b_test = np.c_[np.ones((2, 1)), x_test]"
   ]
  },
  {
   "cell_type": "markdown",
   "metadata": {},
   "source": [
    "Batch Gradient Descent"
   ]
  },
  {
   "cell_type": "code",
   "execution_count": 3,
   "metadata": {},
   "outputs": [
    {
     "name": "stdout",
     "output_type": "stream",
     "text": [
      "w = [[4.21509616]\n",
      " [2.77011339]]\n",
      "y_hat_test = [[4.21509616]\n",
      " [9.75532293]]\n"
     ]
    }
   ],
   "source": [
    "num_iters = 1000\n",
    "batch_size = len(x)\n",
    "learning_rate = 0.1\n",
    "w = np.random.randn(2, 1)\n",
    "\n",
    "for _ in range(num_iters):\n",
    "    gradients = 2.0 / batch_size * x_b.T.dot(x_b.dot(w) - y)\n",
    "    w = w - learning_rate * gradients\n",
    "    \n",
    "print(\"w = {}\".format(w))\n",
    "\n",
    "y_hat_test = x_b_test.dot(w)\n",
    "print(\"y_hat_test = {}\".format(y_hat_test))"
   ]
  },
  {
   "cell_type": "code",
   "execution_count": 4,
   "metadata": {},
   "outputs": [],
   "source": [
    "def plot_model(w):\n",
    "    x_test = np.array([[0], [2]])\n",
    "    x_b_test = np.c_[np.ones((2, 1)), x_test]\n",
    "    y_hat = x_b_test.dot(w)\n",
    "    \n",
    "    plt.figure()\n",
    "    plt.plot(x, y, '.')\n",
    "    plt.plot(x_test, y_hat_test)\n",
    "    plt.show()"
   ]
  },
  {
   "cell_type": "code",
   "execution_count": 5,
   "metadata": {},
   "outputs": [
    {
     "data": {
      "image/png": "[encoded data removed]",
      "text/plain": [
       "<Figure size 432x288 with 1 Axes>"
      ]
     },
     "metadata": {
      "needs_background": "light"
     },
     "output_type": "display_data"
    }
   ],
   "source": [
    "plot_model(w)"
   ]
  },
  {
   "cell_type": "markdown",
   "metadata": {},
   "source": [
    "Stochastic Gradient Descent"
   ]
  },
  {
   "cell_type": "markdown",
   "metadata": {},
   "source": [
    "Manual"
   ]
  },
  {
   "cell_type": "code",
   "execution_count": 6,
   "metadata": {},
   "outputs": [
    {
     "name": "stdout",
     "output_type": "stream",
     "text": [
      "w = [[4.1190865]\n",
      " [2.6599911]]\n"
     ]
    }
   ],
   "source": [
    "num_epochs = 50\n",
    "m = len(x)\n",
    "w = np.random.randn(2, 1)\n",
    "\n",
    "for epoch in range(num_epochs):\n",
    "    for i in range(m):\n",
    "        random_index = np.random.randint(m)\n",
    "        xi = x_b[random_index:random_index+1]\n",
    "        yi = y[random_index:random_index+1]\n",
    "        gradients = 2 * xi.T.dot(xi.dot(w) - yi)\n",
    "        w = w - 0.01 * gradients\n",
    "        \n",
    "print(\"w = {}\".format(w))"
   ]
  },
  {
   "cell_type": "code",
   "execution_count": 7,
   "metadata": {},
   "outputs": [
    {
     "data": {
      "image/png": "[encoded data removed]",
      "text/plain": [
       "<Figure size 432x288 with 1 Axes>"
      ]
     },
     "metadata": {
      "needs_background": "light"
     },
     "output_type": "display_data"
    }
   ],
   "source": [
    "plot_model(w)"
   ]
  },
  {
   "cell_type": "code",
   "execution_count": 8,
   "metadata": {},
   "outputs": [
    {
     "data": {
      "text/plain": [
       "SGDRegressor(alpha=0.0001, average=False, early_stopping=False, epsilon=0.1,\n",
       "             eta0=0.1, fit_intercept=True, l1_ratio=0.15,\n",
       "             learning_rate='invscaling', loss='squared_loss', max_iter=50,\n",
       "             n_iter_no_change=5, penalty=None, power_t=0.25, random_state=42,\n",
       "             shuffle=True, tol=-inf, validation_fraction=0.1, verbose=0,\n",
       "             warm_start=False)"
      ]
     },
     "execution_count": 8,
     "metadata": {},
     "output_type": "execute_result"
    }
   ],
   "source": [
    "from sklearn.linear_model import SGDRegressor\n",
    "\n",
    "sgd_reg = SGDRegressor(max_iter=50, tol=-np.infty, penalty=None, eta0=0.1, random_state=42)\n",
    "sgd_reg.fit(x, y.ravel())"
   ]
  },
  {
   "cell_type": "code",
   "execution_count": 9,
   "metadata": {},
   "outputs": [
    {
     "name": "stdout",
     "output_type": "stream",
     "text": [
      "w = [4.167820891514644, 2.726030517839993]\n"
     ]
    }
   ],
   "source": [
    "w = [sgd_reg.intercept_[0], sgd_reg.coef_[0]]\n",
    "print(\"w = {}\".format(w))\n",
    "# plot_model(w)"
   ]
  },
  {
   "cell_type": "markdown",
   "metadata": {},
   "source": [
    "Mini-batch Gradient Descent"
   ]
  },
  {
   "cell_type": "code",
   "execution_count": 10,
   "metadata": {},
   "outputs": [
    {
     "name": "stdout",
     "output_type": "stream",
     "text": [
      "w = [[4.21614125]\n",
      " [2.77501029]]\n"
     ]
    }
   ],
   "source": [
    "num_epochs = 50\n",
    "batch_size = 20\n",
    "m = len(x)\n",
    "w = np.random.randn(2, 1)\n",
    "\n",
    "for epoch in range(num_epochs):\n",
    "    shuffled_indices = np.random.permutation(m)\n",
    "    x_b_shuffled = x_b[shuffled_indices]\n",
    "    y_shuffled = y[shuffled_indices]\n",
    "    for i in range(0, m, batch_size):\n",
    "        xi = x_b_shuffled[i:i+batch_size]\n",
    "        yi = y_shuffled[i:i+batch_size]\n",
    "        gradients = 2.0 / batch_size * xi.T.dot(xi.dot(w) - yi)\n",
    "        w = w - 0.1 * gradients\n",
    "        \n",
    "print(\"w = {}\".format(w))"
   ]
  },
  {
   "cell_type": "code",
   "execution_count": 11,
   "metadata": {},
   "outputs": [
    {
     "data": {
      "image/png": "[encoded data removed]",
      "text/plain": [
       "<Figure size 432x288 with 1 Axes>"
      ]
     },
     "metadata": {
      "needs_background": "light"
     },
     "output_type": "display_data"
    }
   ],
   "source": [
    "plot_model(w)"
   ]
  }
 ],
 "metadata": {
  "kernelspec": {
   "display_name": "Python 3",
   "language": "python",
   "name": "python3"
  },
  "language_info": {
   "codemirror_mode": {
    "name": "ipython",
    "version": 3
   },
   "file_extension": ".py",
   "mimetype": "text/x-python",
   "name": "python",
   "nbconvert_exporter": "python",
   "pygments_lexer": "ipython3",
   "version": "3.7.3"
  }
 },
 "nbformat": 4,
 "nbformat_minor": 4
}
