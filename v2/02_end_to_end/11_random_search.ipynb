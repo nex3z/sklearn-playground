{
 "cells": [
  {
   "cell_type": "code",
   "execution_count": 1,
   "metadata": {},
   "outputs": [],
   "source": [
    "import numpy as np\n",
    "import pandas as pd\n",
    "from scipy.stats import randint\n",
    "from sklearn.ensemble import RandomForestRegressor\n",
    "from sklearn.model_selection import RandomizedSearchCV\n",
    "\n",
    "from data_utils import train_test_split, build_pipeline"
   ]
  },
  {
   "cell_type": "code",
   "execution_count": 2,
   "metadata": {},
   "outputs": [],
   "source": [
    "SEED = 42"
   ]
  },
  {
   "cell_type": "code",
   "execution_count": 3,
   "metadata": {},
   "outputs": [
    {
     "name": "stdout",
     "output_type": "stream",
     "text": [
      "train_X.shape = (16512, 16)\n",
      "test_X.shape = (4128, 16)\n"
     ]
    }
   ],
   "source": [
    "(df_train_X, train_y), (df_test_X, test_y) = train_test_split(seed=SEED)\n",
    "\n",
    "pipeline = build_pipeline(df_train_X)\n",
    "pipeline.fit(df_train_X)\n",
    "train_X = pipeline.transform(df_train_X)\n",
    "test_X = pipeline.transform(df_test_X)\n",
    "print(f\"train_X.shape = {train_X.shape}\")\n",
    "print(f\"test_X.shape = {test_X.shape}\")"
   ]
  },
  {
   "cell_type": "code",
   "execution_count": 4,
   "metadata": {},
   "outputs": [
    {
     "data": {
      "text/plain": [
       "RandomizedSearchCV(cv=5, estimator=RandomForestRegressor(random_state=42),\n",
       "                   param_distributions={'max_features': <scipy.stats._distn_infrastructure.rv_frozen object at 0x0000023BFB080BC8>,\n",
       "                                        'n_estimators': <scipy.stats._distn_infrastructure.rv_frozen object at 0x0000023BFB076508>},\n",
       "                   random_state=42, scoring='neg_mean_squared_error')"
      ]
     },
     "execution_count": 4,
     "metadata": {},
     "output_type": "execute_result"
    }
   ],
   "source": [
    "param_distributions = {\n",
    "    'n_estimators': randint(low=1, high=200),\n",
    "    'max_features': randint(low=1, high=8),\n",
    "}\n",
    "\n",
    "model = RandomForestRegressor(random_state=SEED)\n",
    "\n",
    "random_search = RandomizedSearchCV(\n",
    "    model, \n",
    "    param_distributions=param_distributions,\n",
    "    n_iter=10, cv=5,\n",
    "    scoring='neg_mean_squared_error', \n",
    "    random_state=SEED\n",
    ")\n",
    "\n",
    "random_search.fit(train_X, train_y)"
   ]
  },
  {
   "cell_type": "code",
   "execution_count": 5,
   "metadata": {},
   "outputs": [
    {
     "data": {
      "text/html": [
       "<div>\n",
       "<style scoped>\n",
       "    .dataframe tbody tr th:only-of-type {\n",
       "        vertical-align: middle;\n",
       "    }\n",
       "\n",
       "    .dataframe tbody tr th {\n",
       "        vertical-align: top;\n",
       "    }\n",
       "\n",
       "    .dataframe thead th {\n",
       "        text-align: right;\n",
       "    }\n",
       "</style>\n",
       "<table border=\"1\" class=\"dataframe\">\n",
       "  <thead>\n",
       "    <tr style=\"text-align: right;\">\n",
       "      <th></th>\n",
       "      <th>params</th>\n",
       "      <th>rmse</th>\n",
       "    </tr>\n",
       "  </thead>\n",
       "  <tbody>\n",
       "    <tr>\n",
       "      <th>0</th>\n",
       "      <td>{'max_features': 7, 'n_estimators': 180}</td>\n",
       "      <td>49150.707569</td>\n",
       "    </tr>\n",
       "    <tr>\n",
       "      <th>4</th>\n",
       "      <td>{'max_features': 7, 'n_estimators': 122}</td>\n",
       "      <td>49280.944983</td>\n",
       "    </tr>\n",
       "    <tr>\n",
       "      <th>7</th>\n",
       "      <td>{'max_features': 5, 'n_estimators': 100}</td>\n",
       "      <td>49608.996081</td>\n",
       "    </tr>\n",
       "    <tr>\n",
       "      <th>8</th>\n",
       "      <td>{'max_features': 3, 'n_estimators': 150}</td>\n",
       "      <td>50473.619304</td>\n",
       "    </tr>\n",
       "    <tr>\n",
       "      <th>6</th>\n",
       "      <td>{'max_features': 3, 'n_estimators': 88}</td>\n",
       "      <td>50682.788882</td>\n",
       "    </tr>\n",
       "    <tr>\n",
       "      <th>5</th>\n",
       "      <td>{'max_features': 3, 'n_estimators': 75}</td>\n",
       "      <td>50774.906624</td>\n",
       "    </tr>\n",
       "    <tr>\n",
       "      <th>2</th>\n",
       "      <td>{'max_features': 3, 'n_estimators': 72}</td>\n",
       "      <td>50796.155224</td>\n",
       "    </tr>\n",
       "    <tr>\n",
       "      <th>3</th>\n",
       "      <td>{'max_features': 5, 'n_estimators': 21}</td>\n",
       "      <td>50835.133603</td>\n",
       "    </tr>\n",
       "    <tr>\n",
       "      <th>1</th>\n",
       "      <td>{'max_features': 5, 'n_estimators': 15}</td>\n",
       "      <td>51389.889203</td>\n",
       "    </tr>\n",
       "    <tr>\n",
       "      <th>9</th>\n",
       "      <td>{'max_features': 5, 'n_estimators': 2}</td>\n",
       "      <td>64429.841433</td>\n",
       "    </tr>\n",
       "  </tbody>\n",
       "</table>\n",
       "</div>"
      ],
      "text/plain": [
       "                                     params          rmse\n",
       "0  {'max_features': 7, 'n_estimators': 180}  49150.707569\n",
       "4  {'max_features': 7, 'n_estimators': 122}  49280.944983\n",
       "7  {'max_features': 5, 'n_estimators': 100}  49608.996081\n",
       "8  {'max_features': 3, 'n_estimators': 150}  50473.619304\n",
       "6   {'max_features': 3, 'n_estimators': 88}  50682.788882\n",
       "5   {'max_features': 3, 'n_estimators': 75}  50774.906624\n",
       "2   {'max_features': 3, 'n_estimators': 72}  50796.155224\n",
       "3   {'max_features': 5, 'n_estimators': 21}  50835.133603\n",
       "1   {'max_features': 5, 'n_estimators': 15}  51389.889203\n",
       "9    {'max_features': 5, 'n_estimators': 2}  64429.841433"
      ]
     },
     "execution_count": 5,
     "metadata": {},
     "output_type": "execute_result"
    }
   ],
   "source": [
    "df_result = pd.DataFrame(random_search.cv_results_)\n",
    "df_result['rmse'] = np.sqrt(- df_result['mean_test_score'])\n",
    "df_result[['params', 'rmse']].sort_values(by='rmse')"
   ]
  }
 ],
 "metadata": {
  "kernelspec": {
   "display_name": "Python 3",
   "language": "python",
   "name": "python3"
  },
  "language_info": {
   "codemirror_mode": {
    "name": "ipython",
    "version": 3
   },
   "file_extension": ".py",
   "mimetype": "text/x-python",
   "name": "python",
   "nbconvert_exporter": "python",
   "pygments_lexer": "ipython3",
   "version": "3.7.9"
  }
 },
 "nbformat": 4,
 "nbformat_minor": 4
}
