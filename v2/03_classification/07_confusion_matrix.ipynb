{
 "cells": [
  {
   "cell_type": "code",
   "execution_count": 1,
   "metadata": {},
   "outputs": [],
   "source": [
    "import matplotlib.pyplot as plt\n",
    "import numpy as np\n",
    "from sklearn.linear_model import SGDClassifier\n",
    "from sklearn.metrics import confusion_matrix\n",
    "from sklearn.model_selection import cross_val_score, cross_val_predict\n",
    "from sklearn.preprocessing import StandardScaler\n",
    "\n",
    "import utils\n",
    "\n",
    "np.set_printoptions(linewidth=200)"
   ]
  },
  {
   "cell_type": "code",
   "execution_count": 2,
   "metadata": {},
   "outputs": [],
   "source": [
    "RANDOM_SEED = 42"
   ]
  },
  {
   "cell_type": "code",
   "execution_count": 3,
   "metadata": {},
   "outputs": [],
   "source": [
    "(x_train, y_train), (x_test, y_test) = utils.load_mnist()\n",
    "x_train_tiny = x_train[:1000]\n",
    "y_train_tiny = y_train[:1000]\n",
    "scaler = StandardScaler()\n",
    "x_train_tiny_scaled = scaler.fit_transform(x_train_tiny.astype(np.float64))"
   ]
  },
  {
   "cell_type": "code",
   "execution_count": 4,
   "metadata": {},
   "outputs": [],
   "source": [
    "sgd_clf = SGDClassifier(max_iter=1000, tol=1e-3, random_state=RANDOM_SEED)"
   ]
  },
  {
   "cell_type": "code",
   "execution_count": 5,
   "metadata": {},
   "outputs": [
    {
     "data": {
      "text/plain": [
       "array([0.83233533, 0.82882883, 0.79279279])"
      ]
     },
     "execution_count": 5,
     "metadata": {},
     "output_type": "execute_result"
    }
   ],
   "source": [
    "cross_val_score(sgd_clf, x_train_tiny, y_train_tiny, cv=3, scoring='accuracy')"
   ]
  },
  {
   "cell_type": "code",
   "execution_count": 6,
   "metadata": {},
   "outputs": [
    {
     "data": {
      "text/plain": [
       "array([0.83532934, 0.81681682, 0.82882883])"
      ]
     },
     "execution_count": 6,
     "metadata": {},
     "output_type": "execute_result"
    }
   ],
   "source": [
    "cross_val_score(sgd_clf, x_train_tiny_scaled, y_train_tiny, cv=3, scoring='accuracy')"
   ]
  },
  {
   "cell_type": "code",
   "execution_count": 7,
   "metadata": {},
   "outputs": [],
   "source": [
    "def plot_mat(mat):\n",
    "    fig = plt.figure()\n",
    "    ax = fig.add_subplot(111)\n",
    "    cax = ax.matshow(mat)\n",
    "    fig.colorbar(cax)\n",
    "    plt.show()"
   ]
  },
  {
   "cell_type": "code",
   "execution_count": 8,
   "metadata": {},
   "outputs": [
    {
     "data": {
      "text/plain": [
       "array([[ 95,   0,   1,   0,   0,   1,   0,   0,   0,   0],\n",
       "       [  0, 106,   2,   0,   0,   5,   1,   0,   1,   1],\n",
       "       [  1,   3,  76,   2,   3,   1,   4,   3,   5,   1],\n",
       "       [  1,   2,   5,  75,   0,   4,   0,   3,   0,   3],\n",
       "       [  0,   0,   0,   3,  90,   3,   1,   1,   2,   5],\n",
       "       [  1,   0,   2,   9,   2,  65,   2,   1,   8,   2],\n",
       "       [  2,   1,   3,   0,   2,   4,  82,   0,   0,   0],\n",
       "       [  0,   2,   3,   0,   3,   0,   0, 106,   0,   3],\n",
       "       [  2,   6,   2,   1,   0,   6,   2,   2,  64,   2],\n",
       "       [  3,   0,   2,   1,   7,   1,   0,  17,   1,  68]], dtype=int64)"
      ]
     },
     "execution_count": 8,
     "metadata": {},
     "output_type": "execute_result"
    }
   ],
   "source": [
    "y_train_tiny_pred = cross_val_predict(sgd_clf, x_train_tiny_scaled, y_train_tiny, cv=3)\n",
    "conf_mat = confusion_matrix(y_train_tiny, y_train_tiny_pred)\n",
    "conf_mat"
   ]
  },
  {
   "cell_type": "code",
   "execution_count": 9,
   "metadata": {},
   "outputs": [
    {
     "data": {
      "image/png": "[encoded data removed]",
      "text/plain": [
       "<Figure size 432x288 with 2 Axes>"
      ]
     },
     "metadata": {
      "needs_background": "light"
     },
     "output_type": "display_data"
    }
   ],
   "source": [
    "plot_mat(conf_mat)"
   ]
  },
  {
   "cell_type": "code",
   "execution_count": 10,
   "metadata": {},
   "outputs": [
    {
     "data": {
      "text/plain": [
       "array([[0.        , 0.        , 0.01030928, 0.        , 0.        , 0.01030928, 0.        , 0.        , 0.        , 0.        ],\n",
       "       [0.        , 0.        , 0.01724138, 0.        , 0.        , 0.04310345, 0.00862069, 0.        , 0.00862069, 0.00862069],\n",
       "       [0.01010101, 0.03030303, 0.        , 0.02020202, 0.03030303, 0.01010101, 0.04040404, 0.03030303, 0.05050505, 0.01010101],\n",
       "       [0.01075269, 0.02150538, 0.05376344, 0.        , 0.        , 0.04301075, 0.        , 0.03225806, 0.        , 0.03225806],\n",
       "       [0.        , 0.        , 0.        , 0.02857143, 0.        , 0.02857143, 0.00952381, 0.00952381, 0.01904762, 0.04761905],\n",
       "       [0.01086957, 0.        , 0.02173913, 0.09782609, 0.02173913, 0.        , 0.02173913, 0.01086957, 0.08695652, 0.02173913],\n",
       "       [0.0212766 , 0.0106383 , 0.03191489, 0.        , 0.0212766 , 0.04255319, 0.        , 0.        , 0.        , 0.        ],\n",
       "       [0.        , 0.01709402, 0.02564103, 0.        , 0.02564103, 0.        , 0.        , 0.        , 0.        , 0.02564103],\n",
       "       [0.02298851, 0.06896552, 0.02298851, 0.01149425, 0.        , 0.06896552, 0.02298851, 0.02298851, 0.        , 0.02298851],\n",
       "       [0.03      , 0.        , 0.02      , 0.01      , 0.07      , 0.01      , 0.        , 0.17      , 0.01      , 0.        ]])"
      ]
     },
     "execution_count": 10,
     "metadata": {},
     "output_type": "execute_result"
    }
   ],
   "source": [
    "row_sums = conf_mat.sum(axis=1, keepdims=True)\n",
    "norm_conf_mat = conf_mat / row_sums\n",
    "np.fill_diagonal(norm_conf_mat, 0)\n",
    "norm_conf_mat"
   ]
  },
  {
   "cell_type": "code",
   "execution_count": 11,
   "metadata": {},
   "outputs": [
    {
     "data": {
      "image/png": "[encoded data removed]",
      "text/plain": [
       "<Figure size 432x288 with 2 Axes>"
      ]
     },
     "metadata": {
      "needs_background": "light"
     },
     "output_type": "display_data"
    }
   ],
   "source": [
    "plot_mat(norm_conf_mat)"
   ]
  },
  {
   "cell_type": "code",
   "execution_count": 12,
   "metadata": {},
   "outputs": [],
   "source": [
    "cl_a, cl_b = '3', '5'\n",
    "x_aa = x_train_tiny[(y_train_tiny == cl_a) & (y_train_tiny_pred == cl_a)].reshape((-1, 28, 28))\n",
    "x_ab = x_train_tiny[(y_train_tiny == cl_a) & (y_train_tiny_pred == cl_b)].reshape((-1, 28, 28))\n",
    "x_ba = x_train_tiny[(y_train_tiny == cl_b) & (y_train_tiny_pred == cl_a)].reshape((-1, 28, 28))\n",
    "x_bb = x_train_tiny[(y_train_tiny == cl_b) & (y_train_tiny_pred == cl_b)].reshape((-1, 28, 28))"
   ]
  },
  {
   "cell_type": "code",
   "execution_count": 13,
   "metadata": {},
   "outputs": [
    {
     "data": {
      "image/png": "[encoded data removed]",
      "text/plain": [
       "<Figure size 576x576 with 4 Axes>"
      ]
     },
     "metadata": {
      "needs_background": "light"
     },
     "output_type": "display_data"
    }
   ],
   "source": [
    "plt.figure(figsize=(8, 8))\n",
    "plt.subplot(2, 2, 1)\n",
    "utils.plot_digits(x_aa[:4])\n",
    "plt.subplot(2, 2, 2)\n",
    "utils.plot_digits(x_ab[:4])\n",
    "plt.subplot(2, 2, 3)\n",
    "utils.plot_digits(x_ba[:4])\n",
    "plt.subplot(2, 2, 4)\n",
    "utils.plot_digits(x_bb[:4])"
   ]
  }
 ],
 "metadata": {
  "kernelspec": {
   "display_name": "Python 3",
   "language": "python",
   "name": "python3"
  },
  "language_info": {
   "codemirror_mode": {
    "name": "ipython",
    "version": 3
   },
   "file_extension": ".py",
   "mimetype": "text/x-python",
   "name": "python",
   "nbconvert_exporter": "python",
   "pygments_lexer": "ipython3",
   "version": "3.8.5"
  }
 },
 "nbformat": 4,
 "nbformat_minor": 4
}
